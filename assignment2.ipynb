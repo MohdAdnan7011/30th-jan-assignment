{
 "cells": [
  {
   "cell_type": "code",
   "execution_count": 1,
   "id": "d4ac27b2-db22-46a6-8d48-082a65702d93",
   "metadata": {},
   "outputs": [],
   "source": [
    "# Question number 1"
   ]
  },
  {
   "cell_type": "code",
   "execution_count": 2,
   "id": "5bc39cbc-8481-429a-b167-7745dc4ddf2a",
   "metadata": {},
   "outputs": [
    {
     "name": "stdin",
     "output_type": "stream",
     "text": [
      "Enter your marks 56\n"
     ]
    },
    {
     "name": "stdout",
     "output_type": "stream",
     "text": [
      "Your grade is D\n"
     ]
    }
   ],
   "source": [
    "marks = int(input(\"Enter your marks\"))\n",
    "if marks > 90 :\n",
    "    print(\"Your grade is A\")\n",
    "elif  marks >80 and marks <= 90 :\n",
    "    print(\"Your grade is B\")\n",
    "elif  marks >=60 and marks <= 80 :\n",
    "    print(\"Your grade is C\")\n",
    "else :\n",
    "    print(\"Your grade is D\")"
   ]
  },
  {
   "cell_type": "code",
   "execution_count": 3,
   "id": "4d03deb3-7b7e-4a9e-a91d-1e28693beef5",
   "metadata": {},
   "outputs": [],
   "source": [
    "# Question number 2"
   ]
  },
  {
   "cell_type": "code",
   "execution_count": 4,
   "id": "2edcc8db-5363-4148-8c12-f489580d46ba",
   "metadata": {},
   "outputs": [
    {
     "name": "stdin",
     "output_type": "stream",
     "text": [
      "Enter the price 70000\n"
     ]
    },
    {
     "name": "stdout",
     "output_type": "stream",
     "text": [
      "Road tax have to pay 10%\n"
     ]
    }
   ],
   "source": [
    "cost_price = int(input(\"Enter the price\"))\n",
    "if cost_price > 100000 :\n",
    "    print(\"Road tax have to pay 15%\")\n",
    "elif cost_price > 50000 and cost_price <= 100000 :\n",
    "    print(\"Road tax have to pay 10%\")\n",
    "else :\n",
    "     print(\"Road tax have to pay 5%\")"
   ]
  },
  {
   "cell_type": "code",
   "execution_count": 5,
   "id": "f2ee68d5-a850-4a58-9556-ce5636a254dd",
   "metadata": {},
   "outputs": [],
   "source": [
    "# Question number 3"
   ]
  },
  {
   "cell_type": "code",
   "execution_count": 6,
   "id": "882ea188-408a-45ca-b46b-d5196892f470",
   "metadata": {},
   "outputs": [
    {
     "name": "stdin",
     "output_type": "stream",
     "text": [
      "Enter the name Delhi\n"
     ]
    },
    {
     "name": "stdout",
     "output_type": "stream",
     "text": [
      "Red Fort\n"
     ]
    }
   ],
   "source": [
    "city = input(\"Enter the name\") # city first letter must be capital\n",
    "if city == \"Delhi\" :\n",
    "    print(\"Red Fort\")\n",
    "elif city == \"Agra\" :\n",
    "    print(\"Taj Mahal\")\n",
    "elif city == \"Jaipur\" :\n",
    "    print(\"Jal Mahal\") \n",
    "else :\n",
    "    print(\"Hello Everyone\")"
   ]
  },
  {
   "cell_type": "code",
   "execution_count": 7,
   "id": "2ee8d94a-a80b-4267-9a41-0347e991cafa",
   "metadata": {},
   "outputs": [
    {
     "name": "stdin",
     "output_type": "stream",
     "text": [
      "Enter the number 6\n"
     ]
    },
    {
     "ename": "NameError",
     "evalue": "name 'y' is not defined",
     "output_type": "error",
     "traceback": [
      "\u001b[0;31m---------------------------------------------------------------------------\u001b[0m",
      "\u001b[0;31mNameError\u001b[0m                                 Traceback (most recent call last)",
      "Cell \u001b[0;32mIn[7], line 3\u001b[0m\n\u001b[1;32m      1\u001b[0m \u001b[38;5;66;03m#Question number 4\u001b[39;00m\n\u001b[1;32m      2\u001b[0m number \u001b[38;5;241m=\u001b[39m \u001b[38;5;28mint\u001b[39m(\u001b[38;5;28minput\u001b[39m(\u001b[38;5;124m\"\u001b[39m\u001b[38;5;124mEnter the number\u001b[39m\u001b[38;5;124m\"\u001b[39m))\n\u001b[0;32m----> 3\u001b[0m \u001b[38;5;28;01mif\u001b[39;00m number\u001b[38;5;241m/\u001b[39m\u001b[38;5;241m3\u001b[39m \u001b[38;5;241m==\u001b[39m \u001b[43my\u001b[49m :\n\u001b[1;32m      4\u001b[0m     x \u001b[38;5;241m=\u001b[39m y\u001b[38;5;241m-\u001b[39m\u001b[38;5;241m3\u001b[39m\n\u001b[1;32m      5\u001b[0m     \u001b[38;5;28mprint\u001b[39m(x)\n",
      "\u001b[0;31mNameError\u001b[0m: name 'y' is not defined"
     ]
    }
   ],
   "source": [
    "#Question number 4\n",
    "number = int(input(\"Enter the number\"))\n",
    "if number/3 == y :\n",
    "    x = y-3\n",
    "    print(x)\n",
    "else :\n",
    "    print(\"Nothing\")"
   ]
  },
  {
   "cell_type": "code",
   "execution_count": null,
   "id": "64e153b4-19c7-4367-aab4-ed5e844f6ff4",
   "metadata": {},
   "outputs": [],
   "source": [
    "#Question number 5"
   ]
  },
  {
   "cell_type": "code",
   "execution_count": null,
   "id": "463f1166-445f-4daf-8d80-6ebcebe71d77",
   "metadata": {},
   "outputs": [],
   "source": [
    "#loop runs untill the condition is being met\n",
    "#loop runs untill the condition is true\n",
    "# lets understand it by an example of table \n",
    "n = int(input(\"Enter the number\"))\n",
    "i = 1\n",
    "while i <= 10 :\n",
    "    result = n*i\n",
    "    print(n, \"*\", i, \"=\", result)\n",
    "    i = i + 1"
   ]
  },
  {
   "cell_type": "code",
   "execution_count": null,
   "id": "b248a22f-1faf-404f-9720-6238788e49b6",
   "metadata": {},
   "outputs": [],
   "source": [
    "#Question number 6"
   ]
  },
  {
   "cell_type": "code",
   "execution_count": null,
   "id": "8da7042b-7abf-4b05-acce-95ee856543c1",
   "metadata": {},
   "outputs": [],
   "source": [
    "# First pattern printing\n",
    "n = int(input(\"Enter the number of rows\"))\n",
    "i = 1\n",
    "\n",
    "while i <= n :\n",
    "    j = 1\n",
    "    while j <= i :\n",
    "        print(\"*\", end = \" \")\n",
    "        j = j + 1\n",
    "    print()\n",
    "    i = i +1"
   ]
  },
  {
   "cell_type": "code",
   "execution_count": null,
   "id": "8b19250b-8f5c-40c0-b61e-097175341864",
   "metadata": {},
   "outputs": [],
   "source": [
    "# second pattern printing\n",
    "n = int(input(\"Enter the number of rows\"))\n",
    "i = 1\n",
    "\n",
    "while i <= n :\n",
    "    j = n\n",
    "    while j >= i :\n",
    "        print(\"*\", end = \" \")\n",
    "        j = j - 1\n",
    "    print()\n",
    "    i = i +1"
   ]
  },
  {
   "cell_type": "code",
   "execution_count": 8,
   "id": "6e867511-7c72-40c8-a0ef-e4022bf34fdd",
   "metadata": {},
   "outputs": [
    {
     "name": "stdout",
     "output_type": "stream",
     "text": [
      "1\n",
      "2\n",
      "3\n",
      "4\n",
      "5\n",
      "6\n",
      "7\n",
      "8\n",
      "9\n",
      "10\n"
     ]
    }
   ],
   "source": [
    "# Question no 7 and 8\n",
    "n = 10\n",
    "i = 1\n",
    "while i <= n :\n",
    "    print(i)\n",
    "    i = i + 1"
   ]
  },
  {
   "cell_type": "code",
   "execution_count": null,
   "id": "a2e8cf91-1cd7-431f-a70b-ad71f103f987",
   "metadata": {},
   "outputs": [],
   "source": [
    "# Question no 7 and 8\n",
    "n = 1\n",
    "i = 10\n",
    "while i >= n :\n",
    "    print(i)\n",
    "    i = i + 1"
   ]
  }
 ],
 "metadata": {
  "kernelspec": {
   "display_name": "Python 3 (ipykernel)",
   "language": "python",
   "name": "python3"
  },
  "language_info": {
   "codemirror_mode": {
    "name": "ipython",
    "version": 3
   },
   "file_extension": ".py",
   "mimetype": "text/x-python",
   "name": "python",
   "nbconvert_exporter": "python",
   "pygments_lexer": "ipython3",
   "version": "3.10.8"
  }
 },
 "nbformat": 4,
 "nbformat_minor": 5
}
